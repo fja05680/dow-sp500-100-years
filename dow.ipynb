{
 "cells": [
  {
   "cell_type": "markdown",
   "metadata": {
    "ExecuteTime": {
     "end_time": "2019-11-16T14:29:50.731803Z",
     "start_time": "2019-11-16T14:29:50.715887Z"
    }
   },
   "source": [
    "# Convert DJA.csv\n",
    "\n",
    "Convert format from https://www.measuringworth.com/datasets/DJA/result.php to yahoo finance type format"
   ]
  },
  {
   "cell_type": "code",
   "execution_count": 1,
   "metadata": {
    "ExecuteTime": {
     "end_time": "2019-12-26T09:41:18.332134Z",
     "start_time": "2019-12-26T09:41:18.321631Z"
    }
   },
   "outputs": [],
   "source": [
    "# use future imports for python 3.x forward compatibility\n",
    "from __future__ import print_function\n",
    "from __future__ import division\n",
    "from __future__ import absolute_import"
   ]
  },
  {
   "cell_type": "code",
   "execution_count": 2,
   "metadata": {
    "ExecuteTime": {
     "end_time": "2019-12-26T09:41:19.151254Z",
     "start_time": "2019-12-26T09:41:18.338620Z"
    }
   },
   "outputs": [],
   "source": [
    "# other imports\n",
    "from datetime import datetime\n",
    "import pandas as pd\n",
    "import os\n",
    "\n",
    "pd.options.mode.chained_assignment = None  # default='warn'\n",
    "pd.set_option('display.max_rows', 600)\n",
    "\n",
    "# -*- encoding: utf-8 -*-\n",
    "%matplotlib inline"
   ]
  },
  {
   "cell_type": "code",
   "execution_count": 3,
   "metadata": {
    "ExecuteTime": {
     "end_time": "2019-12-26T09:41:19.171846Z",
     "start_time": "2019-12-26T09:41:19.158667Z"
    }
   },
   "outputs": [
    {
     "data": {
      "application/javascript": [
       "IPython.OutputArea.prototype._should_scroll = function(lines) {\n",
       "    return false;\n",
       "}"
      ],
      "text/plain": [
       "<IPython.core.display.Javascript object>"
      ]
     },
     "metadata": {},
     "output_type": "display_data"
    }
   ],
   "source": [
    "%%javascript\n",
    "IPython.OutputArea.prototype._should_scroll = function(lines) {\n",
    "    return false;\n",
    "}"
   ]
  },
  {
   "cell_type": "code",
   "execution_count": 4,
   "metadata": {
    "ExecuteTime": {
     "end_time": "2019-12-26T09:41:19.186079Z",
     "start_time": "2019-12-26T09:41:19.175527Z"
    }
   },
   "outputs": [],
   "source": [
    "def get_table(filename):\n",
    "    if os.path.isfile(filename):\n",
    "        df = pd.read_csv(filename, index_col='Date', parse_dates=True, header=3)\n",
    "        return df"
   ]
  },
  {
   "cell_type": "code",
   "execution_count": 5,
   "metadata": {
    "ExecuteTime": {
     "end_time": "2019-12-26T09:41:19.203241Z",
     "start_time": "2019-12-26T09:41:19.189834Z"
    }
   },
   "outputs": [],
   "source": [
    "# Date,High,Low,Open,Close,Volume,Adj Close\n",
    "def adj_columns(ts):\n",
    "\n",
    "    ts.columns = ['High']\n",
    "    ts['Low'] = ts['High']\n",
    "    ts['Open'] = ts['High']\n",
    "    ts['Close'] = ts['High']\n",
    "    ts['Volume'] = 0\n",
    "    ts['Adj Close'] = ts['High']\n",
    "    return ts"
   ]
  },
  {
   "cell_type": "code",
   "execution_count": 6,
   "metadata": {
    "ExecuteTime": {
     "end_time": "2019-12-26T09:41:22.749948Z",
     "start_time": "2019-12-26T09:41:19.207613Z"
    },
    "scrolled": true
   },
   "outputs": [
    {
     "data": {
      "text/html": [
       "<div>\n",
       "<style scoped>\n",
       "    .dataframe tbody tr th:only-of-type {\n",
       "        vertical-align: middle;\n",
       "    }\n",
       "\n",
       "    .dataframe tbody tr th {\n",
       "        vertical-align: top;\n",
       "    }\n",
       "\n",
       "    .dataframe thead th {\n",
       "        text-align: right;\n",
       "    }\n",
       "</style>\n",
       "<table border=\"1\" class=\"dataframe\">\n",
       "  <thead>\n",
       "    <tr style=\"text-align: right;\">\n",
       "      <th></th>\n",
       "      <th>High</th>\n",
       "      <th>Low</th>\n",
       "      <th>Open</th>\n",
       "      <th>Close</th>\n",
       "      <th>Volume</th>\n",
       "      <th>Adj Close</th>\n",
       "    </tr>\n",
       "    <tr>\n",
       "      <th>Date</th>\n",
       "      <th></th>\n",
       "      <th></th>\n",
       "      <th></th>\n",
       "      <th></th>\n",
       "      <th></th>\n",
       "      <th></th>\n",
       "    </tr>\n",
       "  </thead>\n",
       "  <tbody>\n",
       "    <tr>\n",
       "      <th>1885-05-02 00:00:00</th>\n",
       "      <td>31.4350</td>\n",
       "      <td>31.4350</td>\n",
       "      <td>31.4350</td>\n",
       "      <td>31.4350</td>\n",
       "      <td>0</td>\n",
       "      <td>31.4350</td>\n",
       "    </tr>\n",
       "    <tr>\n",
       "      <th>1885-05-04 00:00:00</th>\n",
       "      <td>30.6614</td>\n",
       "      <td>30.6614</td>\n",
       "      <td>30.6614</td>\n",
       "      <td>30.6614</td>\n",
       "      <td>0</td>\n",
       "      <td>30.6614</td>\n",
       "    </tr>\n",
       "    <tr>\n",
       "      <th>1885-05-05 00:00:00</th>\n",
       "      <td>30.5087</td>\n",
       "      <td>30.5087</td>\n",
       "      <td>30.5087</td>\n",
       "      <td>30.5087</td>\n",
       "      <td>0</td>\n",
       "      <td>30.5087</td>\n",
       "    </tr>\n",
       "    <tr>\n",
       "      <th>1885-05-06 00:00:00</th>\n",
       "      <td>30.8240</td>\n",
       "      <td>30.8240</td>\n",
       "      <td>30.8240</td>\n",
       "      <td>30.8240</td>\n",
       "      <td>0</td>\n",
       "      <td>30.8240</td>\n",
       "    </tr>\n",
       "    <tr>\n",
       "      <th>1885-05-07 00:00:00</th>\n",
       "      <td>30.5038</td>\n",
       "      <td>30.5038</td>\n",
       "      <td>30.5038</td>\n",
       "      <td>30.5038</td>\n",
       "      <td>0</td>\n",
       "      <td>30.5038</td>\n",
       "    </tr>\n",
       "  </tbody>\n",
       "</table>\n",
       "</div>"
      ],
      "text/plain": [
       "                        High      Low     Open    Close  Volume  Adj Close\n",
       "Date                                                                      \n",
       "1885-05-02 00:00:00  31.4350  31.4350  31.4350  31.4350       0    31.4350\n",
       "1885-05-04 00:00:00  30.6614  30.6614  30.6614  30.6614       0    30.6614\n",
       "1885-05-05 00:00:00  30.5087  30.5087  30.5087  30.5087       0    30.5087\n",
       "1885-05-06 00:00:00  30.8240  30.8240  30.8240  30.8240       0    30.8240\n",
       "1885-05-07 00:00:00  30.5038  30.5038  30.5038  30.5038       0    30.5038"
      ]
     },
     "execution_count": 6,
     "metadata": {},
     "output_type": "execute_result"
    }
   ],
   "source": [
    "filename = 'DJA-orig.csv'\n",
    "ts = get_table(filename)\n",
    "ts = adj_columns(ts)\n",
    "ts.head()"
   ]
  },
  {
   "cell_type": "code",
   "execution_count": 7,
   "metadata": {
    "ExecuteTime": {
     "end_time": "2019-12-26T09:41:23.137460Z",
     "start_time": "2019-12-26T09:41:22.753700Z"
    }
   },
   "outputs": [],
   "source": [
    "ts.to_csv('DJA.csv')"
   ]
  }
 ],
 "metadata": {
  "kernelspec": {
   "display_name": "Python 2",
   "language": "python",
   "name": "python2"
  },
  "language_info": {
   "codemirror_mode": {
    "name": "ipython",
    "version": 2
   },
   "file_extension": ".py",
   "mimetype": "text/x-python",
   "name": "python",
   "nbconvert_exporter": "python",
   "pygments_lexer": "ipython2",
   "version": "2.7.15+"
  },
  "latex_envs": {
   "LaTeX_envs_menu_present": true,
   "autoclose": false,
   "autocomplete": true,
   "bibliofile": "biblio.bib",
   "cite_by": "apalike",
   "current_citInitial": 1,
   "eqLabelWithNumbers": true,
   "eqNumInitial": 1,
   "hotkeys": {
    "equation": "Ctrl-E",
    "itemize": "Ctrl-I"
   },
   "labels_anchors": false,
   "latex_user_defs": false,
   "report_style_numbering": false,
   "user_envs_cfg": false
  }
 },
 "nbformat": 4,
 "nbformat_minor": 2
}
